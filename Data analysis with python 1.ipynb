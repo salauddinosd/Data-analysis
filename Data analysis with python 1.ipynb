{
 "cells": [
  {
   "cell_type": "code",
   "execution_count": 3,
   "id": "f6455d07-7d03-486e-ba66-b4e3555a1f7a",
   "metadata": {},
   "outputs": [
    {
     "name": "stdout",
     "output_type": "stream",
     "text": [
      "Hello World! This Is Python.\n"
     ]
    }
   ],
   "source": [
    "#Write a function that takes a sentence as an input parameter and replaces the first letter of\n",
    "every word with the corresponding uppercase letter and the rest lowercase without using builtin functions.\n",
    "\n",
    "def capitalize_sentence(sentence):\n",
    "    result = \"\"\n",
    "    word = \"\"\n",
    "    \n",
    "    for char in sentence + \" \": \n",
    "        if char != \" \":\n",
    "            word += char\n",
    "        else:\n",
    "            if word != \"\":\n",
    "                first_char = chr(ord(word[0]) - 32) if 'a' <= word[0] <= 'z' else word[0]\n",
    "                rest = \"\"\n",
    "                for ch in word[1:]:\n",
    "                    if 'A' <= ch <= 'Z':\n",
    "                        rest += chr(ord(ch) + 32)\n",
    "                    else:\n",
    "                        rest += ch\n",
    "                result += first_char + rest + \" \"\n",
    "                word = \"\"\n",
    "    \n",
    "    return result.strip()\n",
    "\n",
    "sentence = \"heLLo worLD! thIs is PYTHON.\"\n",
    "print(capitalize_sentence(sentence))"
   ]
  },
  {
   "cell_type": "code",
   "execution_count": 1,
   "id": "bddb587e-dff0-4284-aeb4-5d2e94daad38",
   "metadata": {},
   "outputs": [
    {
     "name": "stdout",
     "output_type": "stream",
     "text": [
      "Number of vowels: 7\n"
     ]
    }
   ],
   "source": [
    "#Count the number of vowels in a string.\n",
    "def count_vowels(text):\n",
    "    vowels = \"aeiouAEIOU\"\n",
    "    count = 0\n",
    "    for char in text:\n",
    "        if char in vowels:\n",
    "            count += 1\n",
    "    return count\n",
    "sentence = \"Hello, how are you?\"\n",
    "print(\"Number of vowels:\", count_vowels(sentence))"
   ]
  },
  {
   "cell_type": "code",
   "execution_count": 3,
   "id": "b41c94da-a1fe-4acc-ac87-00c9a73c6b0a",
   "metadata": {},
   "outputs": [
    {
     "name": "stdin",
     "output_type": "stream",
     "text": [
      "Enter your marks:  92\n"
     ]
    },
    {
     "name": "stdout",
     "output_type": "stream",
     "text": [
      "Your grade is: A\n"
     ]
    }
   ],
   "source": [
    "#Write a program that simulates a grading system:\n",
    "• If marks ≥ 90: Grade A\n",
    "• If marks ≥ 75: Grade B\n",
    "• If marks ≥ 60: Grade C\n",
    "• Else: Grade F\n",
    "def grading_system(marks):\n",
    "    if marks >= 90:\n",
    "        grade = 'A'\n",
    "    elif marks >= 75:\n",
    "        grade = 'B'\n",
    "    elif marks >= 60:\n",
    "        grade = 'C'\n",
    "    else:\n",
    "        grade = 'F'\n",
    "    return grade\n",
    "marks = int(input(\"Enter your marks: \"))\n",
    "print(\"Your grade is:\", grading_system(marks))"
   ]
  },
  {
   "cell_type": "code",
   "execution_count": 5,
   "id": "ec5abeb6-d41f-4e86-aa46-01be9f1f4d73",
   "metadata": {},
   "outputs": [
    {
     "name": "stdout",
     "output_type": "stream",
     "text": [
      "2\n",
      "3\n",
      "5\n",
      "7\n",
      "11\n",
      "13\n",
      "17\n",
      "19\n",
      "23\n",
      "29\n",
      "31\n",
      "37\n",
      "41\n",
      "43\n",
      "47\n",
      "53\n",
      "59\n",
      "61\n",
      "67\n",
      "71\n",
      "73\n",
      "79\n",
      "83\n",
      "89\n",
      "97\n"
     ]
    }
   ],
   "source": [
    "#How do you use a for loop to print all prime numbers between 1 and 100?\n",
    "for num in range(2, 101): \n",
    "    is_prime = True\n",
    "    for i in range(2, num):\n",
    "        if num % i == 0:\n",
    "            is_prime = False\n",
    "            break\n",
    "    if is_prime:\n",
    "        print(num)"
   ]
  },
  {
   "cell_type": "code",
   "execution_count": 8,
   "id": "6952f602-366f-416e-8dcd-1753718c504d",
   "metadata": {},
   "outputs": [
    {
     "name": "stdin",
     "output_type": "stream",
     "text": [
      "Enter number of rows:  2\n"
     ]
    },
    {
     "name": "stdout",
     "output_type": "stream",
     "text": [
      "1 \n",
      "1 1 \n"
     ]
    }
   ],
   "source": [
    "#How do you use nested loops to generate Pascal’s Triangle up to n rows?\n",
    "def pascal_triangle(n):\n",
    "    for i in range(n):\n",
    "        number = 1\n",
    "        for j in range(i + 1):\n",
    "            print(number, end=\" \")\n",
    "            number = number * (i - j) // (j + 1)\n",
    "        print()\n",
    "rows = int(input(\"Enter number of rows: \"))\n",
    "pascal_triangle(rows)"
   ]
  },
  {
   "cell_type": "code",
   "execution_count": 10,
   "id": "e1e3499d-6e19-4dbf-af11-64b4b0c118a0",
   "metadata": {},
   "outputs": [
    {
     "name": "stdout",
     "output_type": "stream",
     "text": [
      "Result of matrix multiplication:\n",
      "[19, 22]\n",
      "[43, 50]\n"
     ]
    }
   ],
   "source": [
    "#Write a Python program to perform multiplication of two square matrices.\n",
    "def multiply_matrices(A, B, n):\n",
    "    result = [[0 for _ in range(n)] for _ in range(n)]\n",
    "    \n",
    "    for i in range(n): \n",
    "        for j in range(n): \n",
    "            for k in range(n):  \n",
    "                result[i][j] += A[i][k] * B[k][j]\n",
    "    \n",
    "    return result\n",
    "A = [[1, 2],\n",
    "     [3, 4]]\n",
    "\n",
    "B = [[5, 6],\n",
    "     [7, 8]]\n",
    "\n",
    "n = 2\n",
    "result = multiply_matrices(A, B, n)\n",
    "print(\"Result of matrix multiplication:\")\n",
    "for row in result:\n",
    "    print(row)"
   ]
  },
  {
   "cell_type": "code",
   "execution_count": 12,
   "id": "94fdefb6-ff27-4489-9c27-ffb24f7d0a38",
   "metadata": {},
   "outputs": [
    {
     "name": "stdin",
     "output_type": "stream",
     "text": [
      "Enter x1:  3\n",
      "Enter y1:  2\n",
      "Enter x2:  4\n",
      "Enter y2:  6\n"
     ]
    },
    {
     "name": "stdout",
     "output_type": "stream",
     "text": [
      "Distance between the two points is: 4.123105625617661\n"
     ]
    }
   ],
   "source": [
    "#Given coordinates (x1, y1), (x2, y2), find the distance between two points.\n",
    "def find_distance(x1, y1, x2, y2):\n",
    "    dx = x2 - x1\n",
    "    dy = y2 - y1\n",
    "    distance = (dx**2 + dy**2)**0.5 \n",
    "    return distance\n",
    "x1 = float(input(\"Enter x1: \"))\n",
    "y1 = float(input(\"Enter y1: \"))\n",
    "x2 = float(input(\"Enter x2: \"))\n",
    "y2 = float(input(\"Enter y2: \"))\n",
    "\n",
    "d = find_distance(x1, y1, x2, y2)\n",
    "print(\"Distance between the two points is:\", d)"
   ]
  },
  {
   "cell_type": "code",
   "execution_count": 14,
   "id": "29c1c896-305a-4bf8-aabe-2d6419856a41",
   "metadata": {},
   "outputs": [
    {
     "name": "stdin",
     "output_type": "stream",
     "text": [
      "Enter a character:  l\n"
     ]
    },
    {
     "name": "stdout",
     "output_type": "stream",
     "text": [
      "It is a lowercase letter.\n"
     ]
    }
   ],
   "source": [
    "#Write a program to check whether the given input is a digit, lowercase character, uppercase\n",
    "character, or special character (use 'if-else-if' ladder).\n",
    "ch = input(\"Enter a character: \")\n",
    "\n",
    "if '0' <= ch <= '9':\n",
    "    print(\"It is a digit.\")\n",
    "elif 'a' <= ch <= 'z':\n",
    "    print(\"It is a lowercase letter.\")\n",
    "elif 'A' <= ch <= 'Z':\n",
    "    print(\"It is an uppercase letter.\")\n",
    "else:\n",
    "    print(\"It is a special character.\")"
   ]
  },
  {
   "cell_type": "code",
   "execution_count": 16,
   "id": "71b71ccc-9b32-4fbe-a3df-3624a8880f5f",
   "metadata": {},
   "outputs": [
    {
     "name": "stdout",
     "output_type": "stream",
     "text": [
      "Has duplicates: True\n"
     ]
    }
   ],
   "source": [
    "#Write a function called has_duplicates that takes a list and returns True if any element appears\n",
    "more than once.\n",
    "def has_duplicates(my_list):\n",
    "    for i in range(len(my_list)):\n",
    "        for j in range(i + 1, len(my_list)):\n",
    "            if my_list[i] == my_list[j]:\n",
    "                return True\n",
    "    return False\n",
    "numbers = [1, 2, 3, 4, 2]\n",
    "print(\"Has duplicates:\", has_duplicates(numbers))"
   ]
  },
  {
   "cell_type": "code",
   "execution_count": 18,
   "id": "93a7e84d-d720-43dc-8b8a-e9a02902845b",
   "metadata": {},
   "outputs": [
    {
     "name": "stdout",
     "output_type": "stream",
     "text": [
      "Squared numbers: [1, 4, 9, 16, 25]\n"
     ]
    }
   ],
   "source": [
    "#. Square all numbers in a list using list comprehension.\n",
    "numbers = [1, 2, 3, 4, 5]\n",
    "squared_numbers = [x * x for x in numbers]\n",
    "\n",
    "print(\"Squared numbers:\", squared_numbers)"
   ]
  },
  {
   "cell_type": "code",
   "execution_count": 20,
   "id": "fb7ab579-99f3-4a20-b99b-315d82a9d127",
   "metadata": {},
   "outputs": [
    {
     "name": "stdout",
     "output_type": "stream",
     "text": [
      "Maximum number is: 11\n"
     ]
    }
   ],
   "source": [
    "#Find the maximum number in a list without using max().\n",
    "def find_maximum(numbers):\n",
    "    if not numbers:\n",
    "        return None \n",
    "    max_num = numbers[0]  \n",
    "    for num in numbers:\n",
    "        if num > max_num:\n",
    "            max_num = num\n",
    "\n",
    "    return max_num\n",
    "my_list = [4, 9, 2, 11, 7]\n",
    "print(\"Maximum number is:\", find_maximum(my_list))"
   ]
  },
  {
   "cell_type": "code",
   "execution_count": 22,
   "id": "f56e9d78-8dd6-4f91-a626-75db2a36a96a",
   "metadata": {},
   "outputs": [
    {
     "name": "stdout",
     "output_type": "stream",
     "text": [
      "Even numbers: [10, 22, 40, 60]\n"
     ]
    }
   ],
   "source": [
    "#Given a list of numbers, use list comprehension to create a new list containing only the even\n",
    "numbers.\n",
    "numbers = [10, 15, 22, 33, 40, 55, 60]\n",
    "even_numbers = [x for x in numbers if x % 2 == 0]\n",
    "\n",
    "print(\"Even numbers:\", even_numbers)"
   ]
  },
  {
   "cell_type": "code",
   "execution_count": 7,
   "id": "31f13aa7-f610-488d-afbc-14de87b0d28c",
   "metadata": {},
   "outputs": [
    {
     "ename": "SyntaxError",
     "evalue": "invalid syntax (3909473248.py, line 2)",
     "output_type": "error",
     "traceback": [
      "\u001b[1;36m  Cell \u001b[1;32mIn[7], line 2\u001b[1;36m\u001b[0m\n\u001b[1;33m    sum, average, maximum, minimum, and standard deviation.\u001b[0m\n\u001b[1;37m                                    ^\u001b[0m\n\u001b[1;31mSyntaxError\u001b[0m\u001b[1;31m:\u001b[0m invalid syntax\n"
     ]
    }
   ],
   "source": [
    "#Write a program that keeps taking numbers from the user until they enter 0, then prints the total\n",
    "sum, average, maximum, minimum, and standard deviation.\n",
    " \n",
    "    import statistics\n",
    "\n",
    "numbers = []\n",
    "\n",
    "while True:\n",
    "    num = float(input(\"Enter a number (0 to stop): \"))\n",
    "    if num == 0:\n",
    "        break\n",
    "    numbers.append(num)\n",
    "\n",
    "if numbers:\n",
    "    total = sum(numbers)\n",
    "    average = total / len(numbers)\n",
    "    maximum = max(numbers)\n",
    "    minimum = min(numbers)\n",
    "    std_dev = statistics.stdev(numbers) if len(numbers) > 1 else 0\n",
    "\n",
    "    print(f\"Total Sum: {total}\")\n",
    "    print(f\"Average: {average}\")\n",
    "    print(f\"Maximum: {maximum}\")\n",
    "    print(f\"Minimum: {minimum}\")\n",
    "    print(f\"Standard Deviation: {std_dev}\")\n",
    "else:\n",
    "    print(\"No numbers entered.\")"
   ]
  },
  {
   "cell_type": "code",
   "execution_count": 26,
   "id": "e85fffcc-103b-4949-a9d4-e88f681a02d2",
   "metadata": {},
   "outputs": [
    {
     "name": "stdout",
     "output_type": "stream",
     "text": [
      "True\n"
     ]
    }
   ],
   "source": [
    "#Write a function called has_duplicates that takes a list and returns True if any element appears\n",
    "more than once.\n",
    "def has_duplicates(lst):\n",
    "    for i in range(len(lst)):\n",
    "        for j in range(i + 1, len(lst)):\n",
    "            if lst[i] == lst[j]:\n",
    "                return True\n",
    "    return False\n",
    "my_list = [1, 2, 3, 4, 2]\n",
    "print(has_duplicates(my_list))"
   ]
  },
  {
   "cell_type": "code",
   "execution_count": 28,
   "id": "aaecf6c4-9f2f-40ca-83d3-e472d8c6753e",
   "metadata": {},
   "outputs": [
    {
     "name": "stdout",
     "output_type": "stream",
     "text": [
      "[1, 4, 9, 16, 25]\n"
     ]
    }
   ],
   "source": [
    "#Square all numbers in a list using list comprehension.\n",
    "numbers = [1, 2, 3, 4, 5]\n",
    "squared_numbers = [x ** 2 for x in numbers]\n",
    "print(squared_numbers)"
   ]
  },
  {
   "cell_type": "code",
   "execution_count": 30,
   "id": "303718dc-546a-49fa-9c10-5ff5f98de387",
   "metadata": {},
   "outputs": [
    {
     "name": "stdout",
     "output_type": "stream",
     "text": [
      "Even numbers: [10, 22, 40, 60]\n",
      "Odd numbers: [15, 33, 55]\n"
     ]
    }
   ],
   "source": [
    "#. Find the odd, even number in a list.\n",
    "numbers = [10, 15, 22, 33, 40, 55, 60]\n",
    "even_numbers = []\n",
    "odd_numbers = []\n",
    "for num in numbers:\n",
    "    if num % 2 == 0:\n",
    "        even_numbers.append(num)\n",
    "    else:\n",
    "        odd_numbers.append(num)\n",
    "print(\"Even numbers:\", even_numbers)\n",
    "print(\"Odd numbers:\", odd_numbers)"
   ]
  },
  {
   "cell_type": "code",
   "execution_count": 32,
   "id": "29d4a52f-0f65-4831-be82-e4aeb69cdb63",
   "metadata": {},
   "outputs": [
    {
     "name": "stdout",
     "output_type": "stream",
     "text": [
      "Even numbers: [2, 4, 6, 8, 10]\n"
     ]
    }
   ],
   "source": [
    "#Given a list of numbers, use list comprehension to create a new list containing only the even\n",
    "numbers.\n",
    "\n",
    "numbers = [1, 2, 3, 4, 5, 6, 7, 8, 9, 10]\n",
    "even_numbers = [x for x in numbers if x % 2 == 0]\n",
    "\n",
    "print(\"Even numbers:\", even_numbers)"
   ]
  },
  {
   "cell_type": "code",
   "execution_count": 8,
   "id": "2cfff3b9-a534-4f6c-b970-74cd5a93d8ec",
   "metadata": {},
   "outputs": [
    {
     "ename": "SyntaxError",
     "evalue": "invalid syntax (601587212.py, line 2)",
     "output_type": "error",
     "traceback": [
      "\u001b[1;36m  Cell \u001b[1;32mIn[8], line 2\u001b[1;36m\u001b[0m\n\u001b[1;33m    sum, average, maximum, minimum, and standard deviation.\u001b[0m\n\u001b[1;37m                                    ^\u001b[0m\n\u001b[1;31mSyntaxError\u001b[0m\u001b[1;31m:\u001b[0m invalid syntax\n"
     ]
    }
   ],
   "source": [
    "#Write a program that keeps taking numbers from the user until they enter 0, then prints the total\n",
    "sum, average, maximum, minimum, and standard deviation.\n",
    "    \n",
    "\n",
    " import math\n",
    "\n",
    "def main():\n",
    "    numbers = []\n",
    "    \n",
    "    print(\"Enter numbers one by one. Enter 0 to stop and calculate statistics.\")\n",
    "    \n",
    "    while True:\n",
    "        try:\n",
    "            num = float(input(\"Enter a number: \"))\n",
    "            if num == 0:\n",
    "                if len(numbers) == 0:\n",
    "                    print(\"No numbers entered!\")\n",
    "                    return\n",
    "                break\n",
    "            numbers.append(num)\n",
    "        except ValueError:\n",
    "            print(\"Please enter a valid number.\")\n",
    "    \n",
    "    total = sum(numbers)\n",
    "    average = total / len(numbers)\n",
    "    maximum = max(numbers)\n",
    "    minimum = min(numbers)\n",
    "    squared_diffs = [(x - average) ** 2 for x in"
   ]
  },
  {
   "cell_type": "code",
   "execution_count": 36,
   "id": "0d747bc7-9221-44f9-9faa-d630d99fb0ef",
   "metadata": {},
   "outputs": [
    {
     "name": "stdout",
     "output_type": "stream",
     "text": [
      "apple : 3\n",
      "banana : 2\n",
      "orange : 1\n"
     ]
    }
   ],
   "source": [
    "#Given a list of words, how can you count the frequency of each word using a dictionary?\n",
    "words = ['apple', 'banana', 'apple', 'orange', 'banana', 'apple']\n",
    "\n",
    "frequency = {}\n",
    "\n",
    "for word in words:\n",
    "    if word in frequency:\n",
    "        frequency[word] += 1\n",
    "    else:\n",
    "        frequency[word] = 1\n",
    "for word, count in frequency.items():\n",
    "    print(word, \":\", count)"
   ]
  },
  {
   "cell_type": "code",
   "execution_count": 38,
   "id": "976a6c17-90e9-4a77-a335-2c349b9d8382",
   "metadata": {},
   "outputs": [
    {
     "name": "stdout",
     "output_type": "stream",
     "text": [
      "John's science grade is: 85\n"
     ]
    }
   ],
   "source": [
    "#Given a nested dictionary student = {'name': 'John', 'grades': {'math': 90, 'science': 85}}, how\n",
    "would you access John's science grade?\n",
    "\n",
    "student = {\n",
    "    'name': 'John',\n",
    "    'grades': {\n",
    "        'math': 90,\n",
    "        'science': 85\n",
    "    }\n",
    "}\n",
    "\n",
    "science_grade = student['grades']['science']\n",
    "\n",
    "print(\"John's science grade is:\", science_grade)"
   ]
  },
  {
   "cell_type": "code",
   "execution_count": 40,
   "id": "aab8ac2d-c235-474c-a062-0299fa662ba9",
   "metadata": {},
   "outputs": [
    {
     "name": "stdout",
     "output_type": "stream",
     "text": [
      "4123 4567 8912 3456: True\n",
      "5123-4567-8912-3456: True\n",
      "6123456789123456: True\n",
      "7123 4567 8912 3456: False\n",
      "5123 4567 8912 34567: False\n",
      "5123-4567-8912-345a: False\n",
      "4444-4444-4444-4444: False\n"
     ]
    }
   ],
   "source": [
    "#Validate credit card numbers (16 digits, may have hyphens or spaces as separators, must start\n",
    "with 4, 5, or 6).\n",
    "\n",
    "def validate_credit_card(card):\n",
    "    # Remove spaces and hyphens\n",
    "    cleaned = card.replace(\" \", \"\").replace(\"-\", \"\")\n",
    "    \n",
    "    if len(cleaned) != 16:\n",
    "        return False\n",
    "    if cleaned[0] not in ['4', '5', '6']:\n",
    "        return False\n",
    "    \n",
    "    if not cleaned.isdigit():\n",
    "        return False\n",
    "    \n",
    "    for i in range(len(cleaned) - 3):\n",
    "        if cleaned[i] == cleaned[i+1] == cleaned[i+2] == cleaned[i+3]:\n",
    "            return False\n",
    "    \n",
    "    return True\n",
    "\n",
    "cards = [\n",
    "    \"4123 4567 8912 3456\",\n",
    "    \"5123-4567-8912-3456\",\n",
    "    \"6123456789123456\",\n",
    "    \"7123 4567 8912 3456\",\n",
    "    \"5123 4567 8912 34567\",\n",
    "    \"5123-4567-8912-345a\",\n",
    "    \"4444-4444-4444-4444\"\n",
    "]\n",
    "\n",
    "for card in cards:\n",
    "    print(f\"{card}: {validate_credit_card(card)}\")"
   ]
  },
  {
   "cell_type": "code",
   "execution_count": 42,
   "id": "13f7c316-bf9f-44a4-b91f-a100d6d385dd",
   "metadata": {},
   "outputs": [
    {
     "name": "stdout",
     "output_type": "stream",
     "text": [
      "1234567890 is a valid 10-digit mobile number.\n",
      "987654321 is NOT a valid 10-digit mobile number.\n",
      "12345abcde is NOT a valid 10-digit mobile number.\n",
      "0123456789 is a valid 10-digit mobile number.\n",
      "12345678901 is NOT a valid 10-digit mobile number.\n"
     ]
    }
   ],
   "source": [
    "#. Write a regular expression to represent all 10-digit mobile numbers.\n",
    "import re\n",
    "pattern = r'^\\d{10}$'\n",
    "numbers = [\n",
    "    \"1234567890\",\n",
    "    \"987654321\",\n",
    "    \"12345abcde\",\n",
    "    \"0123456789\",\n",
    "    \"12345678901\"\n",
    "]\n",
    "\n",
    "for num in numbers:\n",
    "    if re.match(pattern, num):\n",
    "        print(f\"{num} is a valid 10-digit mobile number.\")\n",
    "    else:\n",
    "        print(f\"{num} is NOT a valid 10-digit mobile number.\")"
   ]
  },
  {
   "cell_type": "code",
   "execution_count": 44,
   "id": "b03fbdab-8819-4fee-ae41-eed85d525025",
   "metadata": {},
   "outputs": [
    {
     "name": "stdout",
     "output_type": "stream",
     "text": [
      "Hello World 2025 Python3\n"
     ]
    }
   ],
   "source": [
    "#. How do you use re.sub() to remove all special characters from a string, leaving only\n",
    "alphanumeric and spaces?\n",
    "\n",
    "import re\n",
    "\n",
    "def remove_special_chars(text):\n",
    "    # Replace all characters except letters, digits, and spaces with empty string\n",
    "    cleaned_text = re.sub(r'[^a-zA-Z0-9 ]', '', text)\n",
    "    return cleaned_text\n",
    "input_str = \"Hello, World! @2025 #Python3.\"\n",
    "result = remove_special_chars(input_str)\n",
    "print(result)"
   ]
  },
  {
   "cell_type": "code",
   "execution_count": 46,
   "id": "7180c641-4057-4eb2-83be-062e43e4d139",
   "metadata": {},
   "outputs": [
    {
     "name": "stdout",
     "output_type": "stream",
     "text": [
      "Area: 15\n",
      "Perimeter: 16\n"
     ]
    }
   ],
   "source": [
    "#How do you define a class Rectangle with methods to compute area and perimeter, and use it\n",
    "with sample inputs?\n",
    "\n",
    "class Rectangle:\n",
    "    def __init__(self, length, width):\n",
    "        self.length = length\n",
    "        self.width = width\n",
    "\n",
    "    def area(self):\n",
    "        return self.length * self.width\n",
    "\n",
    "    def perimeter(self):\n",
    "        return 2 * (self.length + self.width)\n",
    "rect = Rectangle(5, 3)\n",
    "print(\"Area:\", rect.area())\n",
    "print(\"Perimeter:\", rect.perimeter())"
   ]
  },
  {
   "cell_type": "code",
   "execution_count": 4,
   "id": "b0b63e4a-dcf1-4cd3-a4ff-dc6166fe1958",
   "metadata": {},
   "outputs": [
    {
     "name": "stdout",
     "output_type": "stream",
     "text": [
      "Object `negative` not found.\n",
      "Deposited: 1000, New Balance: 1000\n",
      "Withdrawn: 500, New Balance: 500\n",
      "Insufficient balance. Withdrawal denied.\n"
     ]
    }
   ],
   "source": [
    "#Write a class BankAccount with deposit() and withdraw() methods. How do you prevent the\n",
    "balance from going negative?\n",
    "\n",
    "class BankAccount:\n",
    "    def __init__(self):\n",
    "        self.balance = 0\n",
    "\n",
    "    def deposit(self, amount):\n",
    "        if amount > 0:\n",
    "            self.balance += amount\n",
    "            print(f\"Deposited: {amount}, New Balance: {self.balance}\")\n",
    "        else:\n",
    "            print(\"Deposit amount must be positive.\")\n",
    "\n",
    "    def withdraw(self, amount):\n",
    "        if amount > self.balance:\n",
    "            print(\"Insufficient balance. Withdrawal denied.\")\n",
    "        elif amount <= 0:\n",
    "            print(\"Withdrawal amount must be positive.\")\n",
    "        else:\n",
    "            self.balance -= amount\n",
    "            print(f\"Withdrawn: {amount}, New Balance: {self.balance}\")\n",
    "account = BankAccount()\n",
    "account.deposit(1000)\n",
    "account.withdraw(500)\n",
    "account.withdraw(600)  \n"
   ]
  },
  {
   "cell_type": "code",
   "execution_count": null,
   "id": "f691ecff-2196-412b-b6bc-49f9191bd85c",
   "metadata": {},
   "outputs": [],
   "source": []
  }
 ],
 "metadata": {
  "kernelspec": {
   "display_name": "Python [conda env:base] *",
   "language": "python",
   "name": "conda-base-py"
  },
  "language_info": {
   "codemirror_mode": {
    "name": "ipython",
    "version": 3
   },
   "file_extension": ".py",
   "mimetype": "text/x-python",
   "name": "python",
   "nbconvert_exporter": "python",
   "pygments_lexer": "ipython3",
   "version": "3.12.7"
  }
 },
 "nbformat": 4,
 "nbformat_minor": 5
}
